{
 "cells": [
  {
   "cell_type": "code",
   "execution_count": 134,
   "metadata": {},
   "outputs": [],
   "source": [
    "import urllib2\n",
    "from bs4 import BeautifulSoup as bs\n",
    "import re\n"
   ]
  },
  {
   "cell_type": "code",
   "execution_count": 135,
   "metadata": {},
   "outputs": [],
   "source": [
    "#parameter\n",
    "url = \"http://127.0.0.1:8000\"\n",
    "query = \"code\""
   ]
  },
  {
   "cell_type": "code",
   "execution_count": 136,
   "metadata": {},
   "outputs": [],
   "source": [
    "def crawl_index(url):\n",
    "    response = urllib2.urlopen(url)\n",
    "    html = response.read()\n",
    "    html = bs(html,\"html.parser\")\n",
    "    lst = bs.find_all(html,\"a\")\n",
    "    url_lst = []\n",
    "    for i in lst:\n",
    "        web_url = i[\"href\"] \n",
    "        if \"/devops/\" in web_url:\n",
    "            url_lst.append(web_url)\n",
    "    return url_lst\n",
    " "
   ]
  },
  {
   "cell_type": "code",
   "execution_count": 137,
   "metadata": {
    "scrolled": true
   },
   "outputs": [],
   "source": [
    "\n",
    "def search_page(url_lst,query):\n",
    "    result = []\n",
    "    for i in url_lst:\n",
    "        content_url = url + i\n",
    "        res = urllib2.urlopen(content_url)\n",
    "        html = res.read()\n",
    "        html = bs(html,\"html.parser\")\n",
    "        strings =  html.body.stripped_strings\n",
    "        title = html.h1\n",
    "        if(title==None):\n",
    "            title = i.split(\"/\")[-1]\n",
    "        else:  \n",
    "            title = re.sub(\"[\\n]\",\"\",title.string).strip()\n",
    "        for i in strings:\n",
    "            i = re.sub(\"\\n\",\" \",i)\n",
    "            if query in i:\n",
    "                dic = {\n",
    "                    \"url\":content_url,\n",
    "                    \"page\":title,\n",
    "                    \"content\":i\n",
    "                }\n",
    "                result.append(dic)\n",
    "    return result\n",
    "            "
   ]
  },
  {
   "cell_type": "code",
   "execution_count": 138,
   "metadata": {},
   "outputs": [
    {
     "name": "stdout",
     "output_type": "stream",
     "text": [
      "{'url': u'http://127.0.0.1:8000/devops/gloss', 'content': u': A set of characteristics of some code structure or development practice that have been found to be common and harmful.', 'page': u'DevOps Course Glossary'}\n",
      "{'url': u'http://127.0.0.1:8000/devops/gloss', 'content': u': (CD) Regularly deploying new work into production, usually with every push to the master branch on the origin source-code control server.', 'page': u'DevOps Course Glossary'}\n",
      "{'url': u'http://127.0.0.1:8000/devops/gloss', 'content': u': (IAC) Using code to set up and provision servers, network connections, and so on.', 'page': u'DevOps Course Glossary'}\n",
      "{'url': u'http://127.0.0.1:8000/devops/gloss', 'content': u\": Cleaning up source code by running a 'lint' tool that catches common coding errors.\", 'page': u'DevOps Course Glossary'}\n",
      "{'url': u'http://127.0.0.1:8000/devops/gloss', 'content': u': A set of characteristics of some code structure or development practice that have been found to be common and beneficial.', 'page': u'DevOps Course Glossary'}\n",
      "{'url': u'http://127.0.0.1:8000/devops/basics', 'content': u\"This stands for Don't Repeat Yourself! It means that any                     part of your system that might ever need to change should                     have a single place where you can make the change.                     Don't copy blocks of code                     to wherever you need them in your program: write a function                     and call it from each of those places.                     Don't define your data tables in your database, and                     also in your code: find a way (like the Django\", 'page': u'Programming Fundamentals'}\n",
      "{'url': u'http://127.0.0.1:8000/devops/basics', 'content': u'file) to define your data one place                     and use that definition to generate both the database                     and the code that uses the DB.', 'page': u'Programming Fundamentals'}\n",
      "{'url': u'http://127.0.0.1:8000/devops/basics', 'content': u'This is a special case of DRY. It is very tempting,                     when coding your NYU scheduling app, to write                     code assuming there are two (major) semesters per year.                     This will be fine... until NYU adopts a tri-mester                     system. Instead, define a constant', 'page': u'Programming Fundamentals'}\n",
      "{'url': u'http://127.0.0.1:8000/devops/basics', 'content': u', if the coders also happened to include                      the code to clear tax liens (county claims against the                     property for unpaid taxes) in the same function...                     Oops! No one who ever had a tax lien can sell their                     property, because the lien never gets cleared.', 'page': u'Programming Fundamentals'}\n",
      "{'url': u'http://127.0.0.1:8000/devops/basics', 'content': u'important: it allows a reader of your                     code to easily line up blocks of control. Irregular                     indentation is a significant source of bugs, as people                     modifying the code will make mistakes,                     for example, about which', 'page': u'Programming Fundamentals'}\n",
      "{'url': u'http://127.0.0.1:8000/devops/basics', 'content': u'comments, especially                     things like docstrings for classes that can be extracted                     to produce a guide to the system, and comments explaining                     what particularly tricky or unusual bits of code do.                     But commenting is no substitute for writing clear,                     readable code in the first place! The best explanation                      of what your code does is, if you write it correctly,', 'page': u'Programming Fundamentals'}\n",
      "{'url': u'http://127.0.0.1:8000/devops/basics', 'content': u'your code itself', 'page': u'Programming Fundamentals'}\n",
      "{'url': u'http://127.0.0.1:8000/devops/basics', 'content': u'. Remember that we could, and once                     did, write code just as a sequence of 1s and 0s.                     And all higher-level languages need to be translated                      into such code in the end. So why bother with C, Java,                     or Python? These languages exist for', 'page': u'Programming Fundamentals'}\n",
      "{'url': u'http://127.0.0.1:8000/devops/basics', 'content': u',                     not for computers: they make it easier for us to understand                     and reason about what a program will do. The upshot:                     you should look at your code as being every bit as much                     about communicating to humans as about directing a                     computer.', 'page': u'Programming Fundamentals'}\n",
      "{'url': u'http://127.0.0.1:8000/devops/basics', 'content': u'Write an automated test to go with every program or new                     feature you write. Test as completely by hand as you can:                     don\\'t just test that your code fetches the data from the DB                     correctly: test that it still works properly if there is                     no data in the DB, or, indeed, if there is no DB!                     (\"Properly\" here could mean \"Display an informative error                     message instead of crashing.\")', 'page': u'Programming Fundamentals'}\n",
      "{'url': u'http://127.0.0.1:8000/devops/basics', 'content': u'use integer values in your code', 'page': u'Programming Fundamentals'}\n",
      "{'url': u'http://127.0.0.1:8000/devops/basics', 'content': u'use an irrational number in your code', 'page': u'Programming Fundamentals'}\n",
      "{'url': u'http://127.0.0.1:8000/devops/basics', 'content': u'DRY means your code should ...?', 'page': u'Programming Fundamentals'}\n",
      "{'url': u'http://127.0.0.1:8000/devops/basics', 'content': u'in our code', 'page': u'Programming Fundamentals'}\n",
      "{'url': u'http://127.0.0.1:8000/devops/basics', 'content': u'in both the code and database', 'page': u'Programming Fundamentals'}\n",
      "{'url': u'http://127.0.0.1:8000/devops/basics', 'content': u'in one place used by both our code and the database', 'page': u'Programming Fundamentals'}\n",
      "{'url': u'http://127.0.0.1:8000/devops/basics', 'content': u'The best way to make your code understandable is...?', 'page': u'Programming Fundamentals'}\n",
      "{'url': u'http://127.0.0.1:8000/devops/basics', 'content': u'to write clear code', 'page': u'Programming Fundamentals'}\n",
      "{'url': u'http://127.0.0.1:8000/devops/basics', 'content': u\"nowhere: rewrite the code so you don't need it\", 'page': u'Programming Fundamentals'}\n",
      "{'url': u'http://127.0.0.1:8000/devops/basics', 'content': u'scattered through the code as widely as possible', 'page': u'Programming Fundamentals'}\n",
      "{'url': u'http://127.0.0.1:8000/devops/basics', 'content': u'used for every line of code', 'page': u'Programming Fundamentals'}\n",
      "{'url': u'http://127.0.0.1:8000/devops/basics', 'content': u'to pass the tests of code-style tools', 'page': u'Programming Fundamentals'}\n",
      "{'url': u'http://127.0.0.1:8000/devops/comm', 'content': u'only the most crucial code in the application', 'page': u'Cooperation and Communication'}\n",
      "{'url': u'http://127.0.0.1:8000/devops/comm', 'content': u'all of the application code', 'page': u'Cooperation and Communication'}\n",
      "{'url': u'http://127.0.0.1:8000/devops/comm', 'content': u'all of the application code AND all of the infrastructure code', 'page': u'Cooperation and Communication'}\n",
      "{'url': u'http://127.0.0.1:8000/devops/comm', 'content': u'project source code', 'page': u'Cooperation and Communication'}\n",
      "{'url': u'http://127.0.0.1:8000/devops/incr', 'content': u'is a system for creating and updating a                 distributed source code control', 'page': u'Incremental Development'}\n",
      "{'url': u'http://127.0.0.1:8000/devops/incr', 'content': u'This pushes the master branch of your code to the origin                     repo. (Some projects create multiple branches: following                     the guidelines for', 'page': u'Incremental Development'}\n",
      "{'url': u'http://127.0.0.1:8000/devops/incr', 'content': u'one can work entirely offline,                     and continue checking code into the repo: each person                     who has cloned the repo has a full copy of it.                     Whenever you get back online, you can re-sync.', 'page': u'Incremental Development'}\n",
      "{'url': u'http://127.0.0.1:8000/devops/incr', 'content': u\"'s implementation                 of them is... tricky. First of all, a repo's submodules do not                 update automatically! This is sensible, because the submodule                 might be someone else's code, and you don't want a new version                 to break your program. So you have to\", 'page': u'Incremental Development'}\n",
      "{'url': u'http://127.0.0.1:8000/devops/incr', 'content': u\"update automatically when                 you do a pull. Given that the submodule might be third party                  software, we don't want a new version that might break                 our code automatically joining our repo! Thus, when                  you need the new version of a submodule in a repo, you have                 to explicitly run an update. We are working to automatically                 include such an update in our build files, where appropriate.\", 'page': u'Incremental Development'}\n",
      "{'url': u'http://127.0.0.1:8000/devops/build', 'content': u'SonarQube is an open source tool written in Java that helps                     to analyze the quality of source code.  It has the ability                     to analyze source code in over 20 languages.  The code                     analysis step can be used manually by executing sonar                     runner but however the best use of SonarQube is during the                     build process.  If SonarQube is integrated with the Jenkins                     server it can provide continuous integration and reports                     based on the analysis of the code.', 'page': u'Automating Builds'}\n",
      "{'url': u'http://127.0.0.1:8000/devops/build', 'content': u\"'s behavior is                 that,                 when it is building a target by executing one or more commands,                 should any of those commands fail (return a non-zero exit                 code),\", 'page': u'Automating Builds'}\n",
      "{'url': u'http://127.0.0.1:8000/devops/flow', 'content': u'.                 That allowed Toyota to respond rapidly to changing customer                 demand, because it did not have huge inventory backlogs                 it had to get rid of before changing course.                 Eric Ries, entrepreneur, tech executive, and coder, writes:', 'page': u'Workflow'}\n",
      "{'url': u'http://127.0.0.1:8000/devops/flow', 'content': u\"My experience completely agrees with Eric's: I often check in                 code,\", 'page': u'Workflow'}\n",
      "{'url': u'http://127.0.0.1:8000/devops/test', 'content': u'Stub: a crude imitation of real object returning hard-coded                     values.', 'page': u'Automated Testing'}\n",
      "{'url': u'http://127.0.0.1:8000/devops/infra', 'content': u'Infrastructure as code and Docker', 'page': u'Infrastructure as Code'}\n",
      "{'url': u'http://127.0.0.1:8000/devops/infra', 'content': u'Infrastructure as code: What is it? Why is it important?', 'page': u'Infrastructure as Code'}\n",
      "{'url': u'http://127.0.0.1:8000/devops/infra', 'content': u'Infrastructure as code (IaC) as the idea that, rather than                 manually provisioning servers, or setting up hardware through a                 point-and-click GUI, the \"server room\" should itself be managed                 by code. That code can then be put under version control,                 tested, deployed with automated build tools, and so on.  The                 code also serves as necessarily up-to-date documentation of                 what the infrastructure is.', 'page': u'Infrastructure as Code'}\n",
      "{'url': u'http://127.0.0.1:8000/devops/infra', 'content': u':                     It is error-prone, because it is boring, too configure                     systems \"by hand.\" A script can be debugged once, and                     then will run reliably again and again.                     Furthermore, as code, the infrastructure can be read and                      reasoned about. It is very hard to do that with a bunch of                     check-boxes!', 'page': u'Infrastructure as Code'}\n",
      "{'url': u'http://127.0.0.1:8000/devops/infra', 'content': u'Download website code', 'page': u'Infrastructure as Code'}\n",
      "{'url': u'http://127.0.0.1:8000/devops/infra', 'content': u\"Ok now that you have download the nginx image,                     let's download the static website that you                     are going to host inside the docker container.                     We are going to use the algorithms website for                     another course.                     You can find the code for the website\", 'page': u'Infrastructure as Code'}\n",
      "{'url': u'http://127.0.0.1:8000/devops/infra', 'content': u'Ok, so we have downloaded the nginx image and                     the code of the website which we want to host                     All we need to do is just make a container                     out of the image. We will put the code of                     website inside the container so that the                     webserver which is nginx in our case can                     read the html files and host it in local                     server.                     The command for that is as shown below.', 'page': u'Infrastructure as Code'}\n",
      "{'url': u'http://127.0.0.1:8000/devops/infra', 'content': u'infrastructure as code', 'page': u'Infrastructure as Code'}\n",
      "{'url': u'http://127.0.0.1:8000/devops/infra', 'content': u', since the infrastructure for              the project is built from these files of code.', 'page': u'Infrastructure as Code'}\n",
      "{'url': u'http://127.0.0.1:8000/devops/infra', 'content': u'Infrastructure as code speeds up deployment because...?', 'page': u'Infrastructure as Code'}\n",
      "{'url': u'http://127.0.0.1:8000/devops/infra', 'content': u'Infrastructure as code is less error-prone than manual deployment because...?', 'page': u'Infrastructure as Code'}\n",
      "{'url': u'http://127.0.0.1:8000/devops/infra', 'content': u'we can look over the code and reason about it', 'page': u'Infrastructure as Code'}\n",
      "{'url': u'http://127.0.0.1:8000/devops/infra', 'content': u'Infrastructure as code can reduce costs, since...?', 'page': u'Infrastructure as Code'}\n",
      "{'url': u'http://127.0.0.1:8000/devops/infra', 'content': u'code is lighter in weight than hardware', 'page': u'Infrastructure as Code'}\n",
      "{'url': u'http://127.0.0.1:8000/devops/monit', 'content': u\"StatusCake, as it's configured right now, only checks                     for HTTP status codes. However, it's possible that our web                     server could be ACKing with empty pages.  Ideally, we would                     want to test for content, in addition to headers, to mitigate                     this scenario.\", 'page': u'Monitoring'}\n",
      "{'url': u'http://127.0.0.1:8000/devops/secur', 'content': u'\"Cross-Site Scripting (XSS) attacks are a type of injection, in which           malicious scripts are injected into otherwise benign and trusted web           sites. XSS attacks occur when an attacker uses a web application to           send malicious code, generally in the form of a browser side script,           to a different end user. Flaws that allow these attacks to succeed           are quite widespread and occur anywhere a web application uses input           from a user within the output it generates without validating or           encoding it.  XSS can be used by an attacker to send a malicious           script to an unsuspecting user.  The end user\\u2019s browser has no way to           know that the script should not be trusted, and will execute the           script. Because it thinks the script came from a trusted source, the           malicious script can access any cookies, session tokens, or other           sensitive information retained by the browser and used with that           site. These scripts can even rewrite the content of the HTML that           site. These scripts can even rewrite the content of the HTML page.\"', 'page': u'Security (Tool: in-toto)'}\n",
      "{'url': u'http://127.0.0.1:8000/devops/secur', 'content': u'\"A path traversal attack (also known as directory traversal) aims to           access files and directories that are stored outside the web root           folder. By manipulating variables that reference files with           \\u201cdot-dot-slash (../)\\u201d sequences and its variations or by using           absolute file paths, it may be possible to access arbitrary files and           directories stored on file system including application source code           or configuration and critical system files. It should be noted that           access to files is limited by system operational access control (such           as in the case of locked or in-use files on the Microsoft Windows           operating system).\"', 'page': u'Security (Tool: in-toto)'}\n",
      "{'url': u'http://127.0.0.1:8000/devops/secur', 'content': u'\"Insecure Deserialization is a vulnerability which occurs when             untrusted data is used to abuse the             logic of an application, inflict a denial of service (DoS) attack,             or even execute arbitrary code upon             it being deserialized. Web applications make use of serialization             and deserialization on a regular basis             and most programming languages even provide native features to             serialize data (especially into common formats like JSON and XML).             It\\u2019s frequently possible for an attacker to abuse these             deserialization features when the application is deserializing             untrusted             data which the attacker controls. Successful insecure             deserialization attacks could allow an attacker to carry out             denial-of-service (DoS) attacks, authentication bypasses, and             remote code execution attacks.\"', 'page': u'Security (Tool: in-toto)'}\n",
      "{'url': u'http://127.0.0.1:8000/devops/secur', 'content': u'Rugged DevOps is the practice of shifting Security                         left.  Security teams can introduce security much                         earlier in the development process. This is contrary to                         the standard approach where security practices of code                         analysis and vulnerability testing is placed just                         before the application is deployed into production.', 'page': u'Security (Tool: in-toto)'}\n",
      "{'url': u'http://127.0.0.1:8000/devops/suite', 'content': u'Everything as code', 'page': u'Complete DevOps Operations (Tool: Azure DevOps)'}\n",
      "{'url': u'http://127.0.0.1:8000/devops/suite', 'content': u'Infrastructure as code', 'page': u'Complete DevOps Operations (Tool: Azure DevOps)'}\n",
      "{'url': u'http://127.0.0.1:8000/devops/suite', 'content': u'is a                     part of this principle. But also, your tests should be                     code (', 'page': u'Complete DevOps Operations (Tool: Azure DevOps)'}\n",
      "{'url': u'http://127.0.0.1:8000/devops/suite', 'content': u'),                     and your code reviews should be code (', 'page': u'Complete DevOps Operations (Tool: Azure DevOps)'}\n",
      "{'url': u'http://127.0.0.1:8000/devops/suite', 'content': u'),                     and your builds should be code (', 'page': u'Complete DevOps Operations (Tool: Azure DevOps)'}\n",
      "{'url': u'http://127.0.0.1:8000/devops/suite', 'content': u\"The basic idea is the code that has the fewest bugs                      and the minimum development time is the code you don't have                     to write, since somebody else already wrote it!\", 'page': u'Complete DevOps Operations (Tool: Azure DevOps)'}\n",
      "{'url': u'http://127.0.0.1:8000/devops/suite', 'content': u'Turn them into code that itself can be put under                             version control and tested.', 'page': u'Complete DevOps Operations (Tool: Azure DevOps)'}\n",
      "{'url': u'http://127.0.0.1:8000/devops/suite', 'content': u'Document these workflows through the very code                             that automates them.', 'page': u'Complete DevOps Operations (Tool: Azure DevOps)'}\n",
      "{'url': u'http://127.0.0.1:8000/devops/suite', 'content': u'When we embrace the idea of (very) small releases, and                     adopt automated testing, there is no need for us to have                     any \"bug backlog\" at all: the automated tests should catch                     most problems, and anything they miss, since our release                     was a very small addition to the previous code, will be                     easy to track down.', 'page': u'Complete DevOps Operations (Tool: Azure DevOps)'}\n"
     ]
    }
   ],
   "source": [
    "for i in search_page(crawl_index(url),query):\n",
    "    print(i)"
   ]
  },
  {
   "cell_type": "code",
   "execution_count": null,
   "metadata": {},
   "outputs": [],
   "source": []
  }
 ],
 "metadata": {
  "kernelspec": {
   "display_name": "Python 2",
   "language": "python",
   "name": "python2"
  },
  "language_info": {
   "codemirror_mode": {
    "name": "ipython",
    "version": 2
   },
   "file_extension": ".py",
   "mimetype": "text/x-python",
   "name": "python",
   "nbconvert_exporter": "python",
   "pygments_lexer": "ipython2",
   "version": "2.7.15"
  }
 },
 "nbformat": 4,
 "nbformat_minor": 2
}
