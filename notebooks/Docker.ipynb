{
 "cells": [
  {
   "cell_type": "markdown",
   "metadata": {},
   "source": [
    "# Docker"
   ]
  },
  {
   "cell_type": "markdown",
   "metadata": {},
   "source": [
    "Prior to the rise of containers, the common way to package and deliver an application to the cloud was inside a [virtual machine](https://en.wikipedia.org/wiki/Virtual_machine) (VM). There are systems, like [Vagrant](https://en.wikipedia.org/wiki/Vagrant_(software), that allow specifying the configuration of virtual machines through code (IAC). There are aslo tools like [Ansible](https://en.wikipedia.org/wiki/Ansible_(software)), [Chef](https://en.wikipedia.org/wiki/Chef_(software)), or [Puppet](https://en.wikipedia.org/wiki/Puppet_(software)), that will help to configure virtual machines."
   ]
  },
  {
   "cell_type": "markdown",
   "metadata": {},
   "source": [
    "But in all of these cases, to launch one's application still required spinning up a new VM... and VMs take some time to launch, and are fairly \"heavy-weight\": an entire operating system has to be configured and brought up."
   ]
  },
  {
   "cell_type": "markdown",
   "metadata": {},
   "source": [
    "However, the people building Linux had created another way to \"package\" an application and all of its dependencies: the container. Let's look at a graphic that illustrates the difference between running multiple virtual machines versus running multiple containers:\n",
    "\n",
    "<img src=\"https://gcallah.github.io/OnlineDevops/mysite/static/devops/ContainerVsVM.png\" width=\"66%\">"
   ]
  },
  {
   "cell_type": "markdown",
   "metadata": {},
   "source": [
    "## Docker and Linux"
   ]
  },
  {
   "cell_type": "markdown",
   "metadata": {},
   "source": [
    "How does Linux support containers?\n",
    "\n",
    "Let us count the ways!\n",
    "\n",
    "<img src=\"https://process.filestackapi.com/cache=expiry:max/FwM7EuF2Rty7RPzynumg\" width=\"40%\">"
   ]
  },
  {
   "cell_type": "markdown",
   "metadata": {},
   "source": [
    "### cgroups \n",
    "\n",
    "cgroups, short for \"control groups,\" limit a process, and all of its children, to certain amounts of CPU, memory, and network bandwith, and particular namespaces and devices on the system. When we kick off a Docker container, it runs within a cgroup that limits what it can do.\n",
    "\n",
    "### namespaces \n",
    "\n",
    "Here, the Wikipedia article on Linux namespaces describes these as well as I could wish to, so: \n",
    "\n",
    "\"Namespaces are a feature of the Linux kernel that partitions kernel resources such that one set of processes sees one set of resources while another set of processes sees a different set of resources. The feature works by having the same name space for these resources in the various sets of processes, but those names referring to distinct resources. Examples of resource names that can exist in multiple spaces, so that the named resources are partitioned, are process IDs, hostnames, user IDs, file names, and some names associated with network access, and interprocess communication.\"\n",
    "\n",
    "\"Namespaces are a fundamental aspect of containers on Linux.\" (See source below.) \n",
    "\n",
    "It is worth noting that Google Chrome uses namespaces as a security, not a virtualization, technique.\n",
    "\n",
    "### libnetwork \n",
    "\n",
    "This library enables separate network connections and IP addresses for processes running on the same machine, so that with docker compose we can run an entire distributed application on our laptops.\n",
    "\n",
    "### Union File System \n",
    "\n",
    "As Wikipedia has it, \"In computer operating systems, union mounting is a way of combining multiple directories into one that appears to contain their combined contents.\" \n",
    "\n",
    "UNIX and Linux filesystems are themselves files. To access them, they must be mounted at some point under the root directory. If we mount two directories at the same mount point, one after another, we will only find the contents of the second there. But if we union mount them, we will have the union of the two.\n",
    "\n",
    "Union mounting is how Docker builds up your image from multiple layers of docker images. That means you don't have to start from scratch every time you want to make an image. And containers can share files until one of them writes to one, at which point that file will be moved from the read-only shared area to the read-write layer specific to that container.\n",
    "\n",
    "### AppArmor\n",
    "\n",
    "\"AppArmor ('Application Armor') is a Linux kernel security module that allows the system administrator to restrict programs' capabilities with per-program profiles. Profiles can allow capabilities like network access, raw socket\n",
    " access, and the permission to read, write, or execute files on matching paths.\" -- <a href=\"https://en.wikipedia.org/wiki/AppArmor\">Wikipedia</a>\n",
    " \n",
    "### SELinux\n",
    "\n",
    "Security-enhanced Linux is an alternative to *AppArmor* for securing Linux resources. RedHat distributions add SELinux security to the AppArmor security that comes with Docker.\n",
    "\n",
    "### Netlink\n",
    "\n",
    "The Netlink socket family is a Linux kernel interface used for inter-process communication (IPC) between both the kernel and userspace processes, and between different userspace processes, in a way similar to the Unix domain sockets. Similarly to the Unix domain sockets, and unlike INET sockets, Netlink communication cannot traverse host boundaries. -- [Wikipedia](https://en.wikipedia.org/wiki/Netlink)\n",
    "\n",
    "### Netfilter\n",
    "\n",
    "Netfilter is a framework provided by the Linux kernel that allows various networking-related operations to be implemented in the form of customized handlers. Netfilter offers various functions and operations for packet filtering, network address translation, and port translation, which provide the functionality required for directing packets through a network and prohibiting packets from reaching sensitive locations within a network. -- [Wikipedia](https://en.wikipedia.org/wiki/Netfilter)"
   ]
  },
  {
   "cell_type": "code",
   "execution_count": null,
   "metadata": {},
   "outputs": [],
   "source": []
  }
 ],
 "metadata": {
  "kernelspec": {
   "display_name": "Python 3",
   "language": "python",
   "name": "python3"
  },
  "language_info": {
   "codemirror_mode": {
    "name": "ipython",
    "version": 3
   },
   "file_extension": ".py",
   "mimetype": "text/x-python",
   "name": "python",
   "nbconvert_exporter": "python",
   "pygments_lexer": "ipython3",
   "version": "3.9.2"
  }
 },
 "nbformat": 4,
 "nbformat_minor": 4
}
