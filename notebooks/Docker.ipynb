{
 "cells": [
  {
   "cell_type": "markdown",
   "metadata": {},
   "source": [
    "# Docker"
   ]
  },
  {
   "cell_type": "markdown",
   "metadata": {},
   "source": [
    "Prior to the rise of containers, the common way to package and deliver an application to the cloud was inside a [virtual machine](https://en.wikipedia.org/wiki/Virtual_machine) (VM). There are systems, like [Vagrant](https://en.wikipedia.org/wiki/Vagrant_(software), that allow specifying the configuration of virtual machines through code (IAC). There are aslo tools like [Ansible](https://en.wikipedia.org/wiki/Ansible_(software)), [Chef](https://en.wikipedia.org/wiki/Chef_(software)), or [Puppet](https://en.wikipedia.org/wiki/Puppet_(software)), that will help to configure virtual machines."
   ]
  },
  {
   "cell_type": "markdown",
   "metadata": {},
   "source": [
    "But in all of these cases, to launch one's application still required spinning up a new VM... and VMs take some time to launch, and are fairly \"heavy-weight\": an entire operating system has to be configured and brought up."
   ]
  },
  {
   "cell_type": "markdown",
   "metadata": {},
   "source": [
    "However, the people building Linux had created another way to \"package\" an application and all of its dependencies: the container. Let's look at a graphic that illustrates the difference between running multiple virtual machines versus running multiple containers:\n",
    "![image](https://gcallah.github.io/OnlineDevops/mysite/static/devops/ContainerVsVM.png)"
   ]
  },
  {
   "cell_type": "code",
   "execution_count": null,
   "metadata": {},
   "outputs": [],
   "source": []
  }
 ],
 "metadata": {
  "kernelspec": {
   "display_name": "Python 3",
   "language": "python",
   "name": "python3"
  },
  "language_info": {
   "codemirror_mode": {
    "name": "ipython",
    "version": 3
   },
   "file_extension": ".py",
   "mimetype": "text/x-python",
   "name": "python",
   "nbconvert_exporter": "python",
   "pygments_lexer": "ipython3",
   "version": "3.9.2"
  }
 },
 "nbformat": 4,
 "nbformat_minor": 4
}
